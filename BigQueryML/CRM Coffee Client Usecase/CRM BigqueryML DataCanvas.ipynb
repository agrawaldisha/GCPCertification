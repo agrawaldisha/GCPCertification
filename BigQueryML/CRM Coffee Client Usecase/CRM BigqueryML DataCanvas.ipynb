{
  "metadata": {},
  "nbformat": 4,
  "nbformat_minor": 5,
  "cells": [
    {
      "cell_type": "aidi-dag-node",
      "metadata": {
        "name": "",
        "tags": [],
        "pullContextTime": "1754384180130",
        "createTime": "1754384180130",
        "updateTime": "1754384180604",
        "outputContextCreateTime": "1754384180604",
        "outputContextHash": 1861276454,
        "nodeHeight": 540,
        "nodeWidth": 800,
        "positionX": 250,
        "positionY": 250
      },
      "id": "table-dag-node-1754384180130-8",
      "type": "table",
      "state": "COMPLETE",
      "nlInput": "",
      "nlInputHistory": [],
      "modelResponse": "",
      "children": [
        "bq-code-editor-dag-node-1754384180133-13"
      ],
      "collapsedSubgraphId": "",
      "isMultiturnNodeType": false,
      "additional_properties": {
        "reference": {
          "projectId": "qwiklabs-gcp-01-99af910bdb92",
          "datasetId": "gemini_demo",
          "tableId": "customer_reviews"
        },
        "title": "customer_reviews",
        "isCollapsed": false,
        "preCollapsedNodeHeight": 0,
        "preCollapsedNodeWidth": 0
      }
    },
    {
      "cell_type": "aidi-dag-node",
      "metadata": {
        "name": "",
        "tags": [],
        "pullContextTime": "1754384180131",
        "createTime": "1754384180131",
        "updateTime": "1754384180634",
        "outputContextCreateTime": "1754384180634",
        "outputContextHash": -1180657624,
        "nodeHeight": 540,
        "nodeWidth": 800,
        "positionX": 1150,
        "positionY": 250
      },
      "id": "table-dag-node-1754384180131-9",
      "type": "table",
      "state": "COMPLETE",
      "nlInput": "",
      "nlInputHistory": [],
      "modelResponse": "",
      "children": [
        "bq-code-editor-dag-node-1754384180133-13"
      ],
      "collapsedSubgraphId": "",
      "isMultiturnNodeType": false,
      "additional_properties": {
        "reference": {
          "projectId": "qwiklabs-gcp-01-99af910bdb92",
          "datasetId": "gemini_demo",
          "tableId": "customer_reviews_keywords"
        },
        "title": "customer_reviews_keywords",
        "isCollapsed": false,
        "preCollapsedNodeHeight": 0,
        "preCollapsedNodeWidth": 0
      }
    },
    {
      "cell_type": "aidi-dag-node",
      "metadata": {
        "name": "",
        "tags": [],
        "pullContextTime": "1754384180132",
        "createTime": "1754384180132",
        "updateTime": "1754384180571",
        "outputContextCreateTime": "1754384180571",
        "outputContextHash": 1191305075,
        "nodeHeight": 540,
        "nodeWidth": 800,
        "positionX": 2050,
        "positionY": 250
      },
      "id": "table-dag-node-1754384180132-10",
      "type": "table",
      "state": "COMPLETE",
      "nlInput": "",
      "nlInputHistory": [],
      "modelResponse": "",
      "children": [
        "bq-code-editor-dag-node-1754384180133-13"
      ],
      "collapsedSubgraphId": "",
      "isMultiturnNodeType": false,
      "additional_properties": {
        "reference": {
          "projectId": "qwiklabs-gcp-01-99af910bdb92",
          "datasetId": "gemini_demo",
          "tableId": "customer_reviews_analysis"
        },
        "title": "customer_reviews_analysis",
        "isCollapsed": false,
        "preCollapsedNodeHeight": 0,
        "preCollapsedNodeWidth": 0
      }
    },
    {
      "cell_type": "aidi-dag-node",
      "metadata": {
        "name": "",
        "tags": [],
        "pullContextTime": "1754384180132",
        "createTime": "1754384180132",
        "updateTime": "1754384180628",
        "outputContextCreateTime": "1754384180628",
        "outputContextHash": -39930799,
        "nodeHeight": 540,
        "nodeWidth": 800,
        "positionX": 2950,
        "positionY": 250
      },
      "id": "table-dag-node-1754384180132-11",
      "type": "table",
      "state": "COMPLETE",
      "nlInput": "",
      "nlInputHistory": [],
      "modelResponse": "",
      "children": [
        "bq-code-editor-dag-node-1754384180133-13"
      ],
      "collapsedSubgraphId": "",
      "isMultiturnNodeType": false,
      "additional_properties": {
        "reference": {
          "projectId": "qwiklabs-gcp-01-99af910bdb92",
          "datasetId": "gemini_demo",
          "tableId": "customer_reviews_marketing"
        },
        "title": "customer_reviews_marketing",
        "isCollapsed": false,
        "preCollapsedNodeHeight": 0,
        "preCollapsedNodeWidth": 0
      }
    },
    {
      "cell_type": "aidi-dag-node",
      "metadata": {
        "name": "",
        "tags": [],
        "pullContextTime": "1754384180132",
        "createTime": "1754384180132",
        "updateTime": "1754384180630",
        "outputContextCreateTime": "1754384180630",
        "outputContextHash": 786463970,
        "nodeHeight": 540,
        "nodeWidth": 800,
        "positionX": 3850,
        "positionY": 250
      },
      "id": "table-dag-node-1754384180132-12",
      "type": "table",
      "state": "COMPLETE",
      "nlInput": "",
      "nlInputHistory": [],
      "modelResponse": "",
      "children": [
        "bq-code-editor-dag-node-1754384180133-13"
      ],
      "collapsedSubgraphId": "",
      "isMultiturnNodeType": false,
      "additional_properties": {
        "reference": {
          "projectId": "qwiklabs-gcp-01-99af910bdb92",
          "datasetId": "gemini_demo",
          "tableId": "customer_reviews_marketing_formatted"
        },
        "title": "customer_reviews_marketing_formatted",
        "isCollapsed": false,
        "preCollapsedNodeHeight": 0,
        "preCollapsedNodeWidth": 0
      }
    },
    {
      "cell_type": "aidi-dag-node",
      "metadata": {
        "name": "",
        "tags": [],
        "pullContextTime": "1754384180133",
        "createTime": "1754384180133",
        "updateTime": "1754384180185",
        "nodeHeight": 475,
        "nodeWidth": 800,
        "positionX": 2050,
        "positionY": 940
      },
      "id": "bq-code-editor-dag-node-1754384180133-13",
      "type": "bq-code-editor",
      "state": "INITIAL",
      "nlInput": "",
      "nlInputHistory": [],
      "modelResponse": "",
      "children": [],
      "collapsedSubgraphId": "",
      "isMultiturnNodeType": true,
      "additional_properties": {
        "content": "-- This query uses the LOAD DATA statement to load the customer_reviews.csv file from Cloud Storage to a BigQuery table with the given column names and data types.\n\n\nLOAD DATA OVERWRITE gemini_demo.customer_reviews\n(customer_review_id INT64, customer_id INT64, location_id INT64, review_datetime DATETIME, review_text STRING, social_media_source STRING, social_media_handle STRING)\nFROM FILES (\n  format = 'CSV',\n  uris = ['gs://qwiklabs-gcp-01-99af910bdb92-bucket/gsp1246/customer_reviews.csv']);\n\n--  The result is the review_images object table is added to the gemini_demo dataset and loaded with the uri (the cloud storage location) of each audio review in the sample dataset.\n\nCREATE OR REPLACE EXTERNAL TABLE\n  `gemini_demo.review_images`\nWITH CONNECTION `us.gemini_conn`\nOPTIONS (\n  object_metadata = 'SIMPLE',\n  uris = ['gs://qwiklabs-gcp-01-99af910bdb92-bucket/gsp1246/images/*']\n  );\n\n-- The result is the gemini_2_0_flash model is created and you see it added to the gemini_demo dataset, in the models section.\n\nCREATE OR REPLACE MODEL `gemini_demo.gemini_2_0_flash`\nREMOTE WITH CONNECTION `us.gemini_conn`\nOPTIONS (endpoint = 'gemini-2.0-flash')\n\n-- This query takes customer reviews from the customer_reviews table, constructs prompts for the gemini_2_0_flash model to identify keywords within each review. The results are then stored in a new table customer_reviews_keywords.\n\nCREATE OR REPLACE TABLE\n`gemini_demo.customer_reviews_keywords` AS (\nSELECT ml_generate_text_llm_result, social_media_source, review_text, customer_id, location_id, review_datetime\nFROM\nML.GENERATE_TEXT(\nMODEL `gemini_demo.gemini_2_0_flash`,\n(\n   SELECT social_media_source, customer_id, location_id, review_text, review_datetime, CONCAT(\n      'For each review, provide keywords from the review. Answer in JSON format with one key: keywords. Keywords should be a list.',\n      review_text) AS prompt\n   FROM `gemini_demo.customer_reviews`\n),\nSTRUCT(\n   0.2 AS temperature, TRUE AS flatten_json_output)));\n\nSELECT * FROM `gemini_demo.customer_reviews_keywords`\n\n-- Analyze the customer reviews for positive and negative sentiment\n--This query takes customer reviews from the customer_reviews table, constructs prompts for the gemini_2_0_flash model to classify the sentiment of each review. The results are then stored in a new table customer_reviews_analysis, so that you may use it later for further analysis.\nCREATE OR REPLACE TABLE\n`gemini_demo.customer_reviews_analysis` AS (\nSELECT ml_generate_text_llm_result, social_media_source, review_text, customer_id, location_id, review_datetime\nFROM\nML.GENERATE_TEXT(\nMODEL `gemini_demo.gemini_2_0_flash`,\n(\n   SELECT social_media_source, customer_id, location_id, review_text, review_datetime, CONCAT(\n      'Classify the sentiment of the following text as positive or negative.',\n      review_text, \"In your response don't include the sentiment explanation. Remove all extraneous information from your response, it should be a boolean response either positive or negative.\") AS prompt\n   FROM `gemini_demo.customer_reviews`\n),\nSTRUCT(\n   0.2 AS temperature, TRUE AS flatten_json_output)));\n\n--The result is rows customer_reviews_analysis table with the ml_generate_text_llm_result column containing the sentiment analysis, with the social_media_source, review_text, customer_id, location_id and review_datetime columns included\n\nSELECT * FROM `gemini_demo.customer_reviews_analysis`\nORDER BY review_datetime\n\n--Create a view to sanitize the records\n--The query creates the view, cleaned_data_view and includes the sentiment results\nCREATE OR REPLACE VIEW gemini_demo.cleaned_data_view AS\nSELECT\nREPLACE(REPLACE(REPLACE(LOWER(ml_generate_text_llm_result), '.', ''), ' ', ''), '\\n', '') AS sentiment,\nREGEXP_REPLACE(REGEXP_REPLACE(REGEXP_REPLACE(social_media_source, r'Google(\\+|\\sReviews|\\sLocal|\\sMy\\sBusiness|\\sreviews|\\sMaps)?',\n      'Google'), 'YELP', 'Yelp'), r'SocialMedia1?', 'Social Media') AS social_media_source,\nreview_text,\ncustomer_id,\nlocation_id,\nreview_datetime\nFROM\ngemini_demo.customer_reviews_analysis;\n\n--Create a report of positive and negative review counts\n\nSELECT sentiment, COUNT(*) AS count\nFROM `gemini_demo.cleaned_data_view`\nWHERE sentiment IN ('positive', 'negative')\nGROUP BY sentiment;\n\n-- Create a count of positive and negative reviews by social media source\n\nSELECT sentiment, social_media_source, COUNT(*) AS count\nFROM `gemini_demo.cleaned_data_view`\nWHERE sentiment IN ('positive') OR sentiment IN ('negative')\nGROUP BY sentiment, social_media_source\nORDER BY sentiment, count;    \n\n\n-- Respond to customer reviews\n-- Note: Refer to zero-shot vs. few-shot prompts within the Google AI for Developers documentation for more information.\n-- This table will contain the original review data along with the generated marketing suggestions, allowing you to easily analyze and act upon them.\nCREATE OR REPLACE TABLE\n`gemini_demo.customer_reviews_marketing` AS (\nSELECT ml_generate_text_llm_result, social_media_source, review_text, customer_id, location_id, review_datetime\nFROM\nML.GENERATE_TEXT(\nMODEL `gemini_demo.gemini_2_0_flash`,\n(\n   SELECT social_media_source, customer_id, location_id, review_text, review_datetime, CONCAT(\n      'You are a marketing representative. How could we incentivise this customer with this positive review? Provide a single response, and should be simple and concise, do not include emojis. Answer in JSON format with one key: marketing. Marketing should be a string.', review_text) AS prompt\n   FROM `gemini_demo.customer_reviews`\n   WHERE customer_id = 5576\n),\nSTRUCT(\n   0.2 AS temperature, TRUE AS flatten_json_output)));\n\nSELECT * FROM `gemini_demo.customer_reviews_marketing`\n\n\n-- Make easier to read \nCREATE OR REPLACE TABLE\n`gemini_demo.customer_reviews_marketing_formatted` AS (\nSELECT\n   review_text,\n   JSON_QUERY(RTRIM(LTRIM(results.ml_generate_text_llm_result, \" ```json\"), \"```\"), \"$.marketing\") AS marketing,\n   social_media_source, customer_id, location_id, review_datetime\nFROM\n   `gemini_demo.customer_reviews_marketing` results )\n\n\nSELECT * FROM `gemini_demo.customer_reviews_marketing_formatted`\n\n\n-- This query is designed to automate customer service responses by using Gemini to analyze customer reviews and generate appropriate responses and action plans. It's a powerful example of how Google Cloud can be used to enhance customer service and improve business operations. When the query is run, the result is the customer_reviews_cs_response table is created.\n\nCREATE OR REPLACE TABLE\n`gemini_demo.customer_reviews_cs_response` AS (\nSELECT ml_generate_text_llm_result, social_media_source, review_text, customer_id, location_id, review_datetime\nFROM\nML.GENERATE_TEXT(\nMODEL `gemini_demo.gemini_2_0_flash`,\n(\n   SELECT social_media_source, customer_id, location_id, review_text, review_datetime, CONCAT(\n      'How would you respond to this customer review? If the customer says the coffee is weak or burnt, respond stating \"thank you for the review we will provide your response to the location that you did not like the coffee and it could be improved.\" Or if the review states the service is bad, respond to the customer stating, \"the location they visited has been notified and we are taking action to improve our service at that location.\" From the customer reviews provide actions that the location can take to improve. The response and the actions should be simple, and to the point. Do not include any extraneous or special characters in your response. Answer in JSON format with two keys: Response, and Actions. Response should be a string. Actions should be a string.', review_text) AS prompt\n   FROM `gemini_demo.customer_reviews`\n   WHERE customer_id = 8844\n),\nSTRUCT(\n   0.2 AS temperature, TRUE AS flatten_json_output)));\n\n\nSELECT * FROM `gemini_demo.customer_reviews_cs_response`\n\n--Make Easier to read\n\nCREATE OR REPLACE TABLE\n`gemini_demo.customer_reviews_cs_response_formatted` AS (\nSELECT\n   review_text,\n   JSON_QUERY(RTRIM(LTRIM(results.ml_generate_text_llm_result, \" ```json\"), \"```\"), \"$.Response\") AS Response,\n   JSON_QUERY(RTRIM(LTRIM(results.ml_generate_text_llm_result, \" ```json\"), \"```\"), \"$.Actions\") AS Actions,\n   social_media_source, customer_id, location_id, review_datetime\nFROM\n   `gemini_demo.customer_reviews_cs_response` results )\n\nSELECT * FROM `gemini_demo.customer_reviews_cs_response_formatted`\n\n\n--  Prompt Gemini to provide keywords and summaries for each image\n-- Analyze the images with Gemini 2.0 Flash model\n\nCREATE OR REPLACE TABLE\n`gemini_demo.review_images_results` AS (\nSELECT\n    uri,\n    ml_generate_text_llm_result\nFROM\n    ML.GENERATE_TEXT( MODEL `gemini_demo.gemini_2_0_flash`,\n    TABLE `gemini_demo.review_images`,\n    STRUCT( 0.2 AS temperature,\n        'For each image, provide a summary of what is happening in the image and keywords from the summary. Answer in JSON format with two keys: summary, keywords. Summary should be a string, keywords should be a list.' AS PROMPT,\n        TRUE AS FLATTEN_JSON_OUTPUT)));\n\nSELECT * FROM `gemini_demo.review_images_results`;\n\nCREATE OR REPLACE TABLE\n  `gemini_demo.review_images_results_formatted` AS (\n  SELECT\n    uri,\n    JSON_QUERY(RTRIM(LTRIM(results.ml_generate_text_llm_result, \" ```json\"), \"```\"), \"$.summary\") AS summary,\n    JSON_QUERY(RTRIM(LTRIM(results.ml_generate_text_llm_result, \" ```json\"), \"```\"), \"$.keywords\") AS keywords\n  FROM\n    `gemini_demo.review_images_results` results )\n\nSELECT * FROM `gemini_demo.review_images_results_formatted`\n",
        "citationIndexes": [],
        "generateOnInit": false,
        "focusOnInit": false,
        "title": "SQL",
        "collapsedSql": false,
        "isCollapsed": false,
        "preCollapsedNodeHeight": 0,
        "preCollapsedNodeWidth": 0,
        "hasStartedMultiturnSession": true
      }
    }
  ]
}